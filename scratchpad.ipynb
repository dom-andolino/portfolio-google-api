{
 "cells": [
  {
   "cell_type": "code",
   "execution_count": 21,
   "metadata": {},
   "outputs": [],
   "source": [
    "import os\n",
    "import requests\n",
    "import pandas as pd\n",
    "import duckdb"
   ]
  },
  {
   "cell_type": "code",
   "execution_count": 30,
   "metadata": {},
   "outputs": [
    {
     "data": {
      "text/html": [
       "<div>\n",
       "<style scoped>\n",
       "    .dataframe tbody tr th:only-of-type {\n",
       "        vertical-align: middle;\n",
       "    }\n",
       "\n",
       "    .dataframe tbody tr th {\n",
       "        vertical-align: top;\n",
       "    }\n",
       "\n",
       "    .dataframe thead th {\n",
       "        text-align: right;\n",
       "    }\n",
       "</style>\n",
       "<table border=\"1\" class=\"dataframe\">\n",
       "  <thead>\n",
       "    <tr style=\"text-align: right;\">\n",
       "      <th></th>\n",
       "      <th>name</th>\n",
       "    </tr>\n",
       "  </thead>\n",
       "  <tbody>\n",
       "    <tr>\n",
       "      <th>0</th>\n",
       "      <td>poi_stage</td>\n",
       "    </tr>\n",
       "  </tbody>\n",
       "</table>\n",
       "</div>"
      ],
      "text/plain": [
       "        name\n",
       "0  poi_stage"
      ]
     },
     "metadata": {},
     "output_type": "display_data"
    }
   ],
   "source": [
    "#creates DB if does not exist, else use to test table names created\n",
    "\n",
    "sql_query = '''\n",
    "show tables\n",
    "'''\n",
    "\n",
    "with duckdb.connect('data/person_of_influence.db') as con:\n",
    "    display(con.sql(sql_query).df())"
   ]
  },
  {
   "cell_type": "code",
   "execution_count": 18,
   "metadata": {},
   "outputs": [
    {
     "data": {
      "text/html": [
       "<div>\n",
       "<style scoped>\n",
       "    .dataframe tbody tr th:only-of-type {\n",
       "        vertical-align: middle;\n",
       "    }\n",
       "\n",
       "    .dataframe tbody tr th {\n",
       "        vertical-align: top;\n",
       "    }\n",
       "\n",
       "    .dataframe thead th {\n",
       "        text-align: right;\n",
       "    }\n",
       "</style>\n",
       "<table border=\"1\" class=\"dataframe\">\n",
       "  <thead>\n",
       "    <tr style=\"text-align: right;\">\n",
       "      <th></th>\n",
       "      <th>name</th>\n",
       "      <th>num_cats</th>\n",
       "      <th>bst_cat_rnk</th>\n",
       "      <th>bst_cat</th>\n",
       "      <th>dt</th>\n",
       "    </tr>\n",
       "  </thead>\n",
       "  <tbody>\n",
       "    <tr>\n",
       "      <th>0</th>\n",
       "      <td>50 Cent</td>\n",
       "      <td>1</td>\n",
       "      <td>141</td>\n",
       "      <td>Actor</td>\n",
       "      <td>2025-03-22</td>\n",
       "    </tr>\n",
       "    <tr>\n",
       "      <th>1</th>\n",
       "      <td>A$AP Rocky</td>\n",
       "      <td>1</td>\n",
       "      <td>479</td>\n",
       "      <td>Actor</td>\n",
       "      <td>2025-03-22</td>\n",
       "    </tr>\n",
       "    <tr>\n",
       "      <th>2</th>\n",
       "      <td>A. J. Brown</td>\n",
       "      <td>1</td>\n",
       "      <td>166</td>\n",
       "      <td>NFL</td>\n",
       "      <td>2025-03-22</td>\n",
       "    </tr>\n",
       "    <tr>\n",
       "      <th>3</th>\n",
       "      <td>AJ Dillon</td>\n",
       "      <td>1</td>\n",
       "      <td>281</td>\n",
       "      <td>NFL</td>\n",
       "      <td>2025-03-22</td>\n",
       "    </tr>\n",
       "    <tr>\n",
       "      <th>4</th>\n",
       "      <td>AJ Griffin</td>\n",
       "      <td>1</td>\n",
       "      <td>452</td>\n",
       "      <td>NBA</td>\n",
       "      <td>2025-03-22</td>\n",
       "    </tr>\n",
       "    <tr>\n",
       "      <th>...</th>\n",
       "      <td>...</td>\n",
       "      <td>...</td>\n",
       "      <td>...</td>\n",
       "      <td>...</td>\n",
       "      <td>...</td>\n",
       "    </tr>\n",
       "    <tr>\n",
       "      <th>95</th>\n",
       "      <td>Ali Biçim</td>\n",
       "      <td>1</td>\n",
       "      <td>361</td>\n",
       "      <td>Influencer</td>\n",
       "      <td>2025-03-22</td>\n",
       "    </tr>\n",
       "    <tr>\n",
       "      <th>96</th>\n",
       "      <td>Ali Khamenei</td>\n",
       "      <td>1</td>\n",
       "      <td>185</td>\n",
       "      <td>Politician</td>\n",
       "      <td>2025-03-22</td>\n",
       "    </tr>\n",
       "    <tr>\n",
       "      <th>97</th>\n",
       "      <td>Alia Bhatt</td>\n",
       "      <td>1</td>\n",
       "      <td>432</td>\n",
       "      <td>Actor</td>\n",
       "      <td>2025-03-22</td>\n",
       "    </tr>\n",
       "    <tr>\n",
       "      <th>98</th>\n",
       "      <td>Alice Guo</td>\n",
       "      <td>1</td>\n",
       "      <td>151</td>\n",
       "      <td>Politician</td>\n",
       "      <td>2025-03-22</td>\n",
       "    </tr>\n",
       "    <tr>\n",
       "      <th>99</th>\n",
       "      <td>Alice Weidel</td>\n",
       "      <td>1</td>\n",
       "      <td>410</td>\n",
       "      <td>Politician</td>\n",
       "      <td>2025-03-22</td>\n",
       "    </tr>\n",
       "  </tbody>\n",
       "</table>\n",
       "<p>100 rows × 5 columns</p>\n",
       "</div>"
      ],
      "text/plain": [
       "            name  num_cats  bst_cat_rnk     bst_cat         dt\n",
       "0        50 Cent         1          141       Actor 2025-03-22\n",
       "1     A$AP Rocky         1          479       Actor 2025-03-22\n",
       "2    A. J. Brown         1          166         NFL 2025-03-22\n",
       "3      AJ Dillon         1          281         NFL 2025-03-22\n",
       "4     AJ Griffin         1          452         NBA 2025-03-22\n",
       "..           ...       ...          ...         ...        ...\n",
       "95     Ali Biçim         1          361  Influencer 2025-03-22\n",
       "96  Ali Khamenei         1          185  Politician 2025-03-22\n",
       "97    Alia Bhatt         1          432       Actor 2025-03-22\n",
       "98     Alice Guo         1          151  Politician 2025-03-22\n",
       "99  Alice Weidel         1          410  Politician 2025-03-22\n",
       "\n",
       "[100 rows x 5 columns]"
      ]
     },
     "metadata": {},
     "output_type": "display_data"
    }
   ],
   "source": [
    "\n",
    "sql_query = '''\n",
    "select * from poi_stage limit 100\n",
    "'''\n",
    "\n",
    "with duckdb.connect('data/person_of_influence.db') as con:\n",
    "    display(con.sql(sql_query).df())\n"
   ]
  },
  {
   "cell_type": "code",
   "execution_count": 31,
   "metadata": {},
   "outputs": [
    {
     "ename": "CatalogException",
     "evalue": "Catalog Error: Table with name poi_test does not exist!\nDid you mean \"poi_stage\"?",
     "output_type": "error",
     "traceback": [
      "\u001b[31m---------------------------------------------------------------------------\u001b[39m",
      "\u001b[31mCatalogException\u001b[39m                          Traceback (most recent call last)",
      "\u001b[36mCell\u001b[39m\u001b[36m \u001b[39m\u001b[32mIn[31]\u001b[39m\u001b[32m, line 5\u001b[39m\n\u001b[32m      1\u001b[39m sql_query = \u001b[33m'''\u001b[39m\n\u001b[32m      2\u001b[39m \u001b[33mselect * from poi_test\u001b[39m\n\u001b[32m      3\u001b[39m \u001b[33m'''\u001b[39m\n\u001b[32m----> \u001b[39m\u001b[32m5\u001b[39m \u001b[38;5;28;01mwith\u001b[39;00m duckdb.connect(\u001b[33m'\u001b[39m\u001b[33mdata/person_of_influence.db\u001b[39m\u001b[33m'\u001b[39m) \u001b[38;5;28;01mas\u001b[39;00m con:\n\u001b[32m      6\u001b[39m     display(con.sql(sql_query).df())\n",
      "\u001b[36mCell\u001b[39m\u001b[36m \u001b[39m\u001b[32mIn[31]\u001b[39m\u001b[32m, line 6\u001b[39m\n\u001b[32m      1\u001b[39m sql_query = \u001b[33m'''\u001b[39m\n\u001b[32m      2\u001b[39m \u001b[33mselect * from poi_test\u001b[39m\n\u001b[32m      3\u001b[39m \u001b[33m'''\u001b[39m\n\u001b[32m      5\u001b[39m \u001b[38;5;28;01mwith\u001b[39;00m duckdb.connect(\u001b[33m'\u001b[39m\u001b[33mdata/person_of_influence.db\u001b[39m\u001b[33m'\u001b[39m) \u001b[38;5;28;01mas\u001b[39;00m con:\n\u001b[32m----> \u001b[39m\u001b[32m6\u001b[39m     display(\u001b[43mcon\u001b[49m\u001b[43m.\u001b[49m\u001b[43msql\u001b[49m\u001b[43m(\u001b[49m\u001b[43msql_query\u001b[49m\u001b[43m)\u001b[49m.df())\n",
      "\u001b[31mCatalogException\u001b[39m: Catalog Error: Table with name poi_test does not exist!\nDid you mean \"poi_stage\"?"
     ]
    }
   ],
   "source": [
    "sql_query = '''\n",
    "select * from poi_test\n",
    "'''\n",
    "\n",
    "with duckdb.connect('data/person_of_influence.db') as con:\n",
    "    display(con.sql(sql_query).df())"
   ]
  },
  {
   "cell_type": "code",
   "execution_count": 29,
   "metadata": {},
   "outputs": [
    {
     "ename": "AttributeError",
     "evalue": "'NoneType' object has no attribute 'df'",
     "output_type": "error",
     "traceback": [
      "\u001b[31m---------------------------------------------------------------------------\u001b[39m",
      "\u001b[31mAttributeError\u001b[39m                            Traceback (most recent call last)",
      "\u001b[36mCell\u001b[39m\u001b[36m \u001b[39m\u001b[32mIn[29]\u001b[39m\u001b[32m, line 5\u001b[39m\n\u001b[32m      1\u001b[39m sql_query = \u001b[33m'''\u001b[39m\n\u001b[32m      2\u001b[39m \u001b[33mdrop table poi_test\u001b[39m\n\u001b[32m      3\u001b[39m \u001b[33m'''\u001b[39m\n\u001b[32m----> \u001b[39m\u001b[32m5\u001b[39m \u001b[38;5;28;01mwith\u001b[39;00m duckdb.connect(\u001b[33m'\u001b[39m\u001b[33mdata/person_of_influence.db\u001b[39m\u001b[33m'\u001b[39m) \u001b[38;5;28;01mas\u001b[39;00m con:\n\u001b[32m      6\u001b[39m     display(con.sql(sql_query).df())\n",
      "\u001b[36mCell\u001b[39m\u001b[36m \u001b[39m\u001b[32mIn[29]\u001b[39m\u001b[32m, line 6\u001b[39m\n\u001b[32m      1\u001b[39m sql_query = \u001b[33m'''\u001b[39m\n\u001b[32m      2\u001b[39m \u001b[33mdrop table poi_test\u001b[39m\n\u001b[32m      3\u001b[39m \u001b[33m'''\u001b[39m\n\u001b[32m      5\u001b[39m \u001b[38;5;28;01mwith\u001b[39;00m duckdb.connect(\u001b[33m'\u001b[39m\u001b[33mdata/person_of_influence.db\u001b[39m\u001b[33m'\u001b[39m) \u001b[38;5;28;01mas\u001b[39;00m con:\n\u001b[32m----> \u001b[39m\u001b[32m6\u001b[39m     display(\u001b[43mcon\u001b[49m\u001b[43m.\u001b[49m\u001b[43msql\u001b[49m\u001b[43m(\u001b[49m\u001b[43msql_query\u001b[49m\u001b[43m)\u001b[49m\u001b[43m.\u001b[49m\u001b[43mdf\u001b[49m())\n",
      "\u001b[31mAttributeError\u001b[39m: 'NoneType' object has no attribute 'df'"
     ]
    }
   ],
   "source": [
    "sql_query = '''\n",
    "drop table poi_test\n",
    "'''\n",
    "\n",
    "with duckdb.connect('data/person_of_influence.db') as con:\n",
    "    display(con.sql(sql_query).df())"
   ]
  }
 ],
 "metadata": {
  "kernelspec": {
   "display_name": ".venv",
   "language": "python",
   "name": "python3"
  },
  "language_info": {
   "codemirror_mode": {
    "name": "ipython",
    "version": 3
   },
   "file_extension": ".py",
   "mimetype": "text/x-python",
   "name": "python",
   "nbconvert_exporter": "python",
   "pygments_lexer": "ipython3",
   "version": "3.13.2"
  }
 },
 "nbformat": 4,
 "nbformat_minor": 2
}
